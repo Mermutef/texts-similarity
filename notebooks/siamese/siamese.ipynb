{
 "cells": [
  {
   "cell_type": "code",
   "execution_count": null,
   "id": "dc1bae4f-f25d-4c0d-a87e-8eb0f48c1fbb",
   "metadata": {},
   "outputs": [],
   "source": [
    "import sys  \n",
    "sys.path.insert(1, '../../')"
   ]
  },
  {
   "cell_type": "code",
   "execution_count": null,
   "id": "2ed60d14-d92b-4c0f-b7ed-c8bb842c13e1",
   "metadata": {},
   "outputs": [],
   "source": [
    "import torch\n",
    "\n",
    "from torchvision import datasets, transforms\n",
    "from torch.utils.data import DataLoader, RandomSampler\n",
    "\n",
    "from classifiers.nn.siamese.siamese_model import SiameseNetwork\n",
    "from datasets.siamese_dataset import SiameseNetworkDataset\n",
    "from determining.random_settings import determine_random"
   ]
  },
  {
   "cell_type": "code",
   "execution_count": null,
   "id": "e4f78546-3dc7-4735-be2b-4ea426b304d5",
   "metadata": {},
   "outputs": [],
   "source": [
    "determine_random()\n",
    "# Автоматическое определение, где запускать код: на Nvidia GPU или на CPU\n",
    "device = torch.device('cuda' if torch.cuda.is_available() else 'cpu')\n",
    "\n",
    "# Resize the images and transform to tensors\n",
    "transformation = transforms.Compose([transforms.Resize((100, 100)),\n",
    "                                     transforms.ToTensor()\n",
    "                                     ])\n",
    "\n",
    "train_dataset = SiameseNetworkDataset(\n",
    "    image_folder_dataset=datasets.ImageFolder(root=\"../../datasets/siamese/data/faces/training/\"),\n",
    "    transform=transformation)\n",
    "test_dataset = SiameseNetworkDataset(\n",
    "    image_folder_dataset=datasets.ImageFolder(root=\"../../datasets/siamese/data/faces/testing/\"),\n",
    "    transform=transformation)\n",
    "trainset = DataLoader(train_dataset,\n",
    "                      sampler=RandomSampler(train_dataset),\n",
    "                      num_workers=8,\n",
    "                      batch_size=64)\n",
    "testset = DataLoader(test_dataset, num_workers=2, batch_size=1, sampler=RandomSampler(test_dataset))\n",
    "\n",
    "model = SiameseNetwork().to(device)"
   ]
  },
  {
   "cell_type": "code",
   "execution_count": null,
   "id": "74fd2cbd-3bb6-4ac9-9f12-be9d8ddcd975",
   "metadata": {},
   "outputs": [],
   "source": [
    "model.start_train(trainset)"
   ]
  },
  {
   "cell_type": "code",
   "execution_count": null,
   "id": "aec58d82-f33a-48c7-827b-f2e47bc2c567",
   "metadata": {},
   "outputs": [],
   "source": [
    "model.do_test(testset)"
   ]
  },
  {
   "cell_type": "code",
   "execution_count": null,
   "id": "e7ffe94d-b0f3-48c3-bbec-5c1305c155cb",
   "metadata": {},
   "outputs": [],
   "source": [
    "import matplotlib.pyplot as plt\n",
    "import numpy as np\n",
    "import math\n",
    "\n",
    "max_precision = 0\n",
    "max_precision_i = 0\n",
    "max_f1 = 0\n",
    "max_f1_i = 0\n",
    "max_recall = 0\n",
    "max_recall_i = 0\n",
    "\n",
    "for i, (stat) in enumerate(model.train_stat):\n",
    "    # print(i)\n",
    "    # print(f'Precision: {stat.precision:.2f}')\n",
    "    # print(f'Recall: {stat.recall:.2f}')\n",
    "    # print(f'F1 Score: {stat.f1:.2f}')\n",
    "    # print(f'Loss: {stat.loss:.2f}')\n",
    "    if (max_precision < stat.precision):\n",
    "        max_precision = stat.precision\n",
    "        max_precision_i = i\n",
    "\n",
    "    if (max_f1 < stat.f1):\n",
    "        max_f1 = stat.f1\n",
    "        max_f1_i = i\n",
    "\n",
    "    if (max_recall < stat.recall):\n",
    "        max_recall = stat.recall\n",
    "        max_recall_i = i\n",
    "print(max_precision)\n",
    "print(max_precision_i)\n",
    "print()\n",
    "print(max_recall)\n",
    "print(max_recall_i)\n",
    "print()\n",
    "print(max_f1)\n",
    "print(max_f1_i)\n",
    "\n",
    "# Get the angles from 0 to 2 pie (360 degree) in narray object\n",
    "X = np.arange(0, len(model.train_stat), 1)\n",
    "\n",
    "# Using built-in trigonometric function we can directly plot\n",
    "# the given cosine wave for the given angles\n",
    "Y1 = [i.precision for i in model.train_stat]\n",
    "Y2 = [i.recall for i in model.train_stat]\n",
    "Y3 = [i.f1 for i in model.train_stat]\n",
    "Y4 = [i.loss for i in model.train_stat]\n",
    "\n",
    "# Initialise the subplot function using number of rows and columns\n",
    "figure, axis = plt.subplots(2, 2)\n",
    "\n",
    "# For Sine Function\n",
    "axis[0, 0].plot(X, Y1)\n",
    "axis[0, 0].set_title(\"Precision\")\n",
    "\n",
    "# For Cosine Function\n",
    "axis[0, 1].plot(X, Y2)\n",
    "axis[0, 1].set_title(\"Recall\")\n",
    "\n",
    "# For Tangent Function\n",
    "axis[1, 0].plot(X, Y3)\n",
    "axis[1, 0].set_title(\"F1\")\n",
    "\n",
    "# For Tanh Function\n",
    "axis[1, 1].plot(X, Y4)\n",
    "axis[1, 1].set_title(\"Loss\")\n",
    "\n",
    "# Combine all the operations and display\n",
    "plt.show()"
   ]
  },
  {
   "cell_type": "code",
   "execution_count": null,
   "id": "0ddee94a-236c-44cd-9df5-aecddfb8b049",
   "metadata": {},
   "outputs": [],
   "source": [
    "print(f'Precision: {model.test_stat.precision:.2f}')\n",
    "print(f'Recall: {model.test_stat.recall:.2f}')\n",
    "print(f'F1 Score: {model.test_stat.f1:.2f}')"
   ]
  },
  {
   "cell_type": "code",
   "execution_count": null,
   "id": "2bf4f4fe-7ec1-46d2-8af2-7c4c2ffd392d",
   "metadata": {},
   "outputs": [],
   "source": []
  }
 ],
 "metadata": {
  "kernelspec": {
   "display_name": "Python 3 (ipykernel)",
   "language": "python",
   "name": "python3"
  },
  "language_info": {
   "codemirror_mode": {
    "name": "ipython",
    "version": 3
   },
   "file_extension": ".py",
   "mimetype": "text/x-python",
   "name": "python",
   "nbconvert_exporter": "python",
   "pygments_lexer": "ipython3",
   "version": "3.13.2"
  }
 },
 "nbformat": 4,
 "nbformat_minor": 5
}
